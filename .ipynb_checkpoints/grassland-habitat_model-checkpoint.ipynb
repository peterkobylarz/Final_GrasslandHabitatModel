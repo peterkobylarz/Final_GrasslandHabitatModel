{
 "cells": [
  {
   "cell_type": "code",
   "execution_count": 10,
   "id": "3648c1e3-0c02-4bc3-a76c-5b4a831fe590",
   "metadata": {
    "tags": []
   },
   "outputs": [],
   "source": [
    "import os\n",
    "from glob import glob\n",
    "import pathlib\n",
    "import shutil\n",
    "\n",
    "import earthpy.appeears as etapp\n",
    "import earthpy as et\n",
    "import earthpy.earthexplorer as etee\n",
    "import earthpy.spatial as es\n",
    "import geopandas as gpd\n",
    "import geoviews as gv\n",
    "import holoviews as hv\n",
    "import hvplot.pandas\n",
    "import hvplot.xarray\n",
    "import numpy as np\n",
    "import pandas as pd\n",
    "import panel as pn\n",
    "import requests\n",
    "import rioxarray as rxr\n",
    "import rioxarray.merge as rxrm\n",
    "import xarray as xr\n",
    "\n",
    "data_dir = os.path.join(et.io.HOME, et.io.DATA_NAME)\n",
    "project_dir = os.path.join(data_dir, 'grassland-analysis')\n",
    "#ndvi_dir = os.path.join(data_dir, 'oakland-green-space', 'processed')\n",
    "\n",
    "for a_dir in [data_dir, project_dir]:\n",
    "    if not os.path.exists(a_dir):\n",
    "        os.makedirs(a_dir)"
   ]
  },
  {
   "cell_type": "markdown",
   "id": "c6fbfef2-0f7f-4fa0-967d-a759be4bf3d4",
   "metadata": {},
   "source": [
    "### Habitat Suitability Modeling for Sorghastrum nutans\n",
    "\n",
    "We are building a habitat suitability model for this grassland type. Research the grass and add information and citations here!\n",
    "\n",
    "I am going to analyze the Pawnee National Grassland and Thunder Basin National Grassland units. This data is downloaded from here, make sure to provide a citation!\n",
    "\n",
    "https://www.gbif.org/species/2704414"
   ]
  },
  {
   "cell_type": "code",
   "execution_count": 2,
   "id": "2354c7e8-def3-47dc-bc33-63f883aa6b30",
   "metadata": {
    "tags": []
   },
   "outputs": [
    {
     "data": {
      "text/html": [
       "<div>\n",
       "<style scoped>\n",
       "    .dataframe tbody tr th:only-of-type {\n",
       "        vertical-align: middle;\n",
       "    }\n",
       "\n",
       "    .dataframe tbody tr th {\n",
       "        vertical-align: top;\n",
       "    }\n",
       "\n",
       "    .dataframe thead th {\n",
       "        text-align: right;\n",
       "    }\n",
       "</style>\n",
       "<table border=\"1\" class=\"dataframe\">\n",
       "  <thead>\n",
       "    <tr style=\"text-align: right;\">\n",
       "      <th></th>\n",
       "      <th>NATIONALGR</th>\n",
       "      <th>GIS_ACRES</th>\n",
       "      <th>SHAPE_AREA</th>\n",
       "      <th>SHAPE_LEN</th>\n",
       "      <th>geometry</th>\n",
       "    </tr>\n",
       "    <tr>\n",
       "      <th>GRASSLANDN</th>\n",
       "      <th></th>\n",
       "      <th></th>\n",
       "      <th></th>\n",
       "      <th></th>\n",
       "      <th></th>\n",
       "    </tr>\n",
       "  </thead>\n",
       "  <tbody>\n",
       "    <tr>\n",
       "      <th>Thunder Basin National Grassland</th>\n",
       "      <td>295513010328</td>\n",
       "      <td>626249.208</td>\n",
       "      <td>0.282888</td>\n",
       "      <td>44.088050</td>\n",
       "      <td>MULTIPOLYGON (((-105.46005 43.31908, -105.4601...</td>\n",
       "    </tr>\n",
       "    <tr>\n",
       "      <th>Pawnee National Grassland</th>\n",
       "      <td>295523010328</td>\n",
       "      <td>208424.885</td>\n",
       "      <td>0.089972</td>\n",
       "      <td>15.341594</td>\n",
       "      <td>MULTIPOLYGON (((-104.58106 40.82664, -104.5810...</td>\n",
       "    </tr>\n",
       "  </tbody>\n",
       "</table>\n",
       "</div>"
      ],
      "text/plain": [
       "                                    NATIONALGR   GIS_ACRES  SHAPE_AREA  \\\n",
       "GRASSLANDN                                                               \n",
       "Thunder Basin National Grassland  295513010328  626249.208    0.282888   \n",
       "Pawnee National Grassland         295523010328  208424.885    0.089972   \n",
       "\n",
       "                                  SHAPE_LEN  \\\n",
       "GRASSLANDN                                    \n",
       "Thunder Basin National Grassland  44.088050   \n",
       "Pawnee National Grassland         15.341594   \n",
       "\n",
       "                                                                           geometry  \n",
       "GRASSLANDN                                                                           \n",
       "Thunder Basin National Grassland  MULTIPOLYGON (((-105.46005 43.31908, -105.4601...  \n",
       "Pawnee National Grassland         MULTIPOLYGON (((-104.58106 40.82664, -104.5810...  "
      ]
     },
     "execution_count": 2,
     "metadata": {},
     "output_type": "execute_result"
    }
   ],
   "source": [
    "# Download grassland unit shapefile\n",
    "gl_unit_path = os.path.join(\n",
    "    data_dir,\n",
    "    'earthpy-downloads',\n",
    "    'S_USA.NationalGrassland',\n",
    "    'S_USA.NationalGrassland.shp'\n",
    ")\n",
    "if not os.path.exists(gl_unit_path):\n",
    "    print('downloading ' + gl_url)\n",
    "    gl_url = ('https://data.fs.usda.gov/geodata/edw/'\n",
    "              'edw_resources/shp/S_USA.NationalGrassland.zip')\n",
    "    gl_zip = et.data.get_data(url=gl_url)\n",
    "    \n",
    "gl_unit_gdf = (\n",
    "    gpd.read_file(gl_unit_path).set_index('GRASSLANDN')\n",
    "    .loc[['Thunder Basin National Grassland', 'Pawnee National Grassland']]\n",
    "    .to_crs(4326)\n",
    ")\n",
    "gl_unit_gdf"
   ]
  },
  {
   "cell_type": "markdown",
   "id": "e0f02b60-351a-4461-afe9-23d9b94ace6c",
   "metadata": {},
   "source": [
    "### Habitat Characteristics\n",
    "\n",
    "We are going to use the following characteristics for the habitat model:\n",
    "\n",
    "- median clay soil percentage from 15cm to 30cm- http://hydrology.cee.duke.edu/POLARIS/PROPERTIES/v1.0/clay/p50/15_30/\n"
   ]
  },
  {
   "cell_type": "code",
   "execution_count": 3,
   "id": "250b4e1f-6fa7-4617-a99e-c5b17011eb9d",
   "metadata": {
    "tags": []
   },
   "outputs": [
    {
     "name": "stdout",
     "output_type": "stream",
     "text": [
      "Thunder Basin National Grassland (-105.68534577740812, 43.13179205151148, -104.3147230581148, 44.78726284154685)\n",
      "Pawnee National Grassland (-104.79144253125483, 40.609566404744555, -103.57328571411065, 41.001847062442295)\n",
      "lat4344_lon-105-104.tif already downloaded.\n",
      "lat4344_lon-106-105.tif already downloaded.\n",
      "lat4445_lon-105-104.tif already downloaded.\n",
      "lat4445_lon-106-105.tif already downloaded.\n",
      "lat4041_lon-104-103.tif already downloaded.\n",
      "lat4041_lon-105-104.tif already downloaded.\n"
     ]
    }
   ],
   "source": [
    "# Download habitat characteristic data\n",
    "\n",
    "# Identify bounds of units to be able to select right file to download\n",
    "for unit, details in gl_unit_gdf.iterrows():\n",
    "    bbox = etee.BBox(*details.geometry.bounds)\n",
    "    print(unit + ' ' +str(details.geometry.bounds))\n",
    "\n",
    "soil_list = ['lat4344_lon-105-104.tif',\n",
    "             'lat4344_lon-106-105.tif',\n",
    "             'lat4445_lon-105-104.tif',\n",
    "             'lat4445_lon-106-105.tif',\n",
    "             'lat4041_lon-104-103.tif',\n",
    "             'lat4041_lon-105-104.tif']\n",
    "\n",
    "for file in soil_list:\n",
    "    file_path = os.path.join(\n",
    "        data_dir,\n",
    "        'earthpy-downloads',\n",
    "        file\n",
    "    )\n",
    "    if not os.path.exists(file_path):\n",
    "        print(\"Downloading \" + file)\n",
    "        url = ('http://hydrology.cee.duke.edu/POLARIS/'\n",
    "        'PROPERTIES/v1.0/clay/p50/15_30/' + file\n",
    "              )\n",
    "        print(url)\n",
    "        et.data.get_data(url=url)\n",
    "    else:\n",
    "        print(file + \" already downloaded.\")\n",
    "    "
   ]
  },
  {
   "cell_type": "code",
   "execution_count": 7,
   "id": "8718901e-1264-4f0b-9c4e-191325558df7",
   "metadata": {
    "tags": []
   },
   "outputs": [
    {
     "name": "stdout",
     "output_type": "stream",
     "text": [
      "Attempting to download SRTM data for Thunder Basin National Grassland\n",
      "['C:\\\\Users\\\\Pete\\\\earth-analytics\\\\data\\\\earthpy-downloads\\\\Final-Project\\\\SRTM\\\\Thunder-Basin-National-Grassland\\\\SRTMGL1_NC.003_2000001_to_2023344\\\\SRTMGL1_NC.003_SRTMGL1_DEM_doy2000042_aid0001.tif']\n",
      "Attempting to download SRTM data for Pawnee National Grassland\n",
      "Submitting download request for Pawnee National Grassland\n",
      "['C:\\\\Users\\\\Pete\\\\earth-analytics\\\\data\\\\earthpy-downloads\\\\Final-Project\\\\SRTM\\\\Pawnee-National-Grassland\\\\SRTMGL1_NC.003_2000001_to_2023344\\\\SRTMGL1_NC.003_SRTMGL1_DEM_doy2000042_aid0001.tif']\n"
     ]
    }
   ],
   "source": [
    "# Download SRTM elevation data\n",
    "\n",
    "for name, details in gl_unit_gdf.iterrows():\n",
    "    print(\"Attempting to download SRTM data for \" + name)\n",
    "    download_key = name.replace(\" \", \"-\")\n",
    "    \n",
    "    srtm_dir = os.path.join(\n",
    "        data_dir,\n",
    "        'earthpy-downloads',\n",
    "        'Final-Project',\n",
    "        'SRTM',\n",
    "    )\n",
    "    dl_gdf = (\n",
    "        gl_unit_gdf\n",
    "        .loc[[name]]\n",
    "    )\n",
    "\n",
    "    # Initialize AppeearsDownloader for MODIS NDVI data\n",
    "    srtm_downloader = etapp.AppeearsDownloader(\n",
    "        download_key= download_key,\n",
    "        ea_dir=srtm_dir,\n",
    "        product='SRTMGL1_NC.003',\n",
    "        layer='SRTMGL1_DEM',\n",
    "        start_date=\"02-11-2000\",\n",
    "        end_date=\"02-21-2000\",\n",
    "        polygon=dl_gdf\n",
    "    )\n",
    "    # Download files if the download directory does not exist\n",
    "    if not os.path.exists(srtm_downloader.data_dir):\n",
    "        srtm_downloader.submit_task_request()\n",
    "        print(\"Submitting download request for \" + name)\n",
    "        srtm_downloader.download_files()\n",
    "    tif_paths = glob(\n",
    "        os.path.join(\n",
    "        srtm_downloader.data_dir,\n",
    "            'SRTMGL1_NC.003*',\n",
    "            '*.tif'\n",
    "        )\n",
    "    )\n",
    "    print(tif_paths)\n",
    "    [rxr.open_rasterio(srtm_path, masked=True).squeeze() for srtm_path in tif_paths][0]\n",
    "\n",
    "\n"
   ]
  },
  {
   "cell_type": "code",
   "execution_count": 14,
   "id": "33a942e5-9cc6-463d-aecc-8ca1c0394795",
   "metadata": {
    "tags": []
   },
   "outputs": [
    {
     "name": "stdout",
     "output_type": "stream",
     "text": [
      "<Response [200]>\n"
     ]
    }
   ],
   "source": [
    "maca_url = (\n",
    "    'http://thredds.northwestknowledge.net:8080/thredds/ncss'\n",
    "    '/agg_macav2metdata_pr_CCSM4_r6i1p1_historical_1950_2005_CONUS_monthly.nc'\n",
    "    '?var=precipitation'\n",
    "    '&disableLLSubset=on'\n",
    "    '&disableProjSubset=on'\n",
    "    '&horizStride=1'\n",
    "    '&time_start=1980-01-15T00%3A00%3A00Z'\n",
    "    '&time_end=1980-12-15T00%3A00%3A00Z'\n",
    "    '&timeStride=1'\n",
    "    '&accept=netcdf'\n",
    ")\n",
    "maca_response = requests.get(maca_url)\n",
    "print(maca_response)\n",
    "# with open('maca.nc', 'wb') as maca_file:\n",
    "#     maca_file.write(maca_response.content)\n",
    "# xr.open_dataset('maca.nc')"
   ]
  },
  {
   "cell_type": "code",
   "execution_count": null,
   "id": "e921a92b-b7ad-4746-8873-ec43fef99c16",
   "metadata": {},
   "outputs": [],
   "source": []
  }
 ],
 "metadata": {
  "kernelspec": {
   "display_name": "Python 3 (ipykernel)",
   "language": "python",
   "name": "python3"
  },
  "language_info": {
   "codemirror_mode": {
    "name": "ipython",
    "version": 3
   },
   "file_extension": ".py",
   "mimetype": "text/x-python",
   "name": "python",
   "nbconvert_exporter": "python",
   "pygments_lexer": "ipython3",
   "version": "3.10.13"
  }
 },
 "nbformat": 4,
 "nbformat_minor": 5
}
